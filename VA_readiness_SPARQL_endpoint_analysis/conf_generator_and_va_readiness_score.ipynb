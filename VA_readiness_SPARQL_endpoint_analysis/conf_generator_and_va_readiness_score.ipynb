{
 "cells": [
  {
   "cell_type": "code",
   "execution_count": 1,
   "metadata": {},
   "outputs": [],
   "source": [
    "from pathlib import Path\n",
    "import conf_generator"
   ]
  },
  {
   "cell_type": "code",
   "execution_count": 2,
   "metadata": {},
   "outputs": [],
   "source": [
    "Path(\"example/UNESCO/results\").mkdir(parents=True, exist_ok=True)"
   ]
  },
  {
   "cell_type": "code",
   "execution_count": 3,
   "metadata": {},
   "outputs": [],
   "source": [
    "conf_generator.set_path(\"example/UNESCO\")"
   ]
  },
  {
   "cell_type": "code",
   "execution_count": 4,
   "metadata": {},
   "outputs": [],
   "source": [
    "entities_dictionary = conf_generator.generate_entities(store_results=False)"
   ]
  },
  {
   "cell_type": "code",
   "execution_count": 5,
   "metadata": {},
   "outputs": [
    {
     "data": {
      "text/plain": [
       "11801"
      ]
     },
     "execution_count": 5,
     "metadata": {},
     "output_type": "execute_result"
    }
   ],
   "source": [
    "len(entities_dictionary)"
   ]
  },
  {
   "cell_type": "code",
   "execution_count": 6,
   "metadata": {},
   "outputs": [],
   "source": [
    "properties_dictionary = conf_generator.generate_properties(store_results=False)"
   ]
  },
  {
   "cell_type": "code",
   "execution_count": 7,
   "metadata": {},
   "outputs": [
    {
     "data": {
      "text/plain": [
       "38"
      ]
     },
     "execution_count": 7,
     "metadata": {},
     "output_type": "execute_result"
    }
   ],
   "source": [
    "len(properties_dictionary)"
   ]
  },
  {
   "cell_type": "code",
   "execution_count": 8,
   "metadata": {},
   "outputs": [],
   "source": [
    "stats = conf_generator.estimate_quality(entities_dictionary, properties_dictionary, store_results=False)"
   ]
  },
  {
   "cell_type": "code",
   "execution_count": 9,
   "metadata": {},
   "outputs": [
    {
     "data": {
      "text/plain": [
       "{'entities': {'count': 16282,\n",
       "  'labels count': 11761,\n",
       "  'missing labels': 0,\n",
       "  'generated labels': 4521,\n",
       "  'readability': 0.9803406490975342,\n",
       "  'uniqueness': 0.9950851622743835,\n",
       "  'max_ambiguity_level': 3,\n",
       "  'initial_coverage': 0.7223314089178233,\n",
       "  'coverage': 1.0},\n",
       " 'properties': {'count': 40,\n",
       "  'labels count': 0,\n",
       "  'missing labels': 0,\n",
       "  'generated labels': 40,\n",
       "  'readability': 1.0,\n",
       "  'uniqueness': 0.9473684210526316,\n",
       "  'max_ambiguity_level': 2,\n",
       "  'initial_coverage': 0.0,\n",
       "  'coverage': 1.0},\n",
       " 'virtual_assistant_readiness_score': 0.58160994384954}"
      ]
     },
     "execution_count": 9,
     "metadata": {},
     "output_type": "execute_result"
    }
   ],
   "source": [
    "stats"
   ]
  }
 ],
 "metadata": {
  "kernelspec": {
   "display_name": "Python 3",
   "language": "python",
   "name": "python3"
  },
  "language_info": {
   "codemirror_mode": {
    "name": "ipython",
    "version": 3
   },
   "file_extension": ".py",
   "mimetype": "text/x-python",
   "name": "python",
   "nbconvert_exporter": "python",
   "pygments_lexer": "ipython3",
   "version": "3.8.5"
  }
 },
 "nbformat": 4,
 "nbformat_minor": 2
}
